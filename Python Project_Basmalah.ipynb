{
 "cells": [
  {
   "cell_type": "markdown",
   "metadata": {},
   "source": [
    "# Python Project - Blackjack Game\n",
    "In this project you will be creating a Complete BlackJack Card Game in Python.\n",
    "\n",
    "Here are the requirements:\n",
    "\n",
    "* You need to create a simple text-based [BlackJack](https://en.wikipedia.org/wiki/Blackjack) game\n",
    "* The game needs to have one player versus an automated dealer.\n",
    "* The player can stand or hit.\n",
    "* The player must be able to pick their betting amount.\n",
    "* You need to keep track of the player's total money.\n",
    "* You need to alert the player of wins, losses, or busts, etc...\n",
    "\n",
    "And most importantly:\n",
    "\n",
    "* **You must use OOP and classes in some portion of your game. You can not just use functions in your game. Use classes to help you define the Deck and the Player's hand. There are many right ways to do this, so explore it well!**\n",
    "\n",
    "\n",
    "Feel free to expand this game. Try including multiple players. Try adding in Double-Down and card splits! Remember to you are free to use any resources you want and as always:\n",
    "\n",
    "# HAVE FUN!"
   ]
  },
  {
   "cell_type": "code",
   "execution_count": 2,
   "metadata": {},
   "outputs": [],
   "source": [
    "import random"
   ]
  },
  {
   "cell_type": "code",
   "execution_count": 72,
   "metadata": {},
   "outputs": [
    {
     "name": "stdout",
     "output_type": "stream",
     "text": [
      "\n",
      "--- New Round ---\n"
     ]
    },
    {
     "name": "stdin",
     "output_type": "stream",
     "text": [
      "Your current balance is $100. How much would you like to bet?  50\n"
     ]
    },
    {
     "name": "stdout",
     "output_type": "stream",
     "text": [
      "Player has: Two of Clubs, Four of Spades \n",
      " Score: 6\n",
      " Dealer has: Two of Hearts and a Hidden Card \n"
     ]
    },
    {
     "name": "stdin",
     "output_type": "stream",
     "text": [
      "Hit or Stand? (h/s):  h\n"
     ]
    },
    {
     "name": "stdout",
     "output_type": "stream",
     "text": [
      "Player has: Two of Clubs, Four of Spades, Five of Hearts \n",
      " Score: 11\n"
     ]
    },
    {
     "name": "stdin",
     "output_type": "stream",
     "text": [
      "Hit or Stand? (h/s):  h\n"
     ]
    },
    {
     "name": "stdout",
     "output_type": "stream",
     "text": [
      "Player has: Two of Clubs, Four of Spades, Five of Hearts, Jack of Diamonds \n",
      " Score: 21\n",
      "\n",
      "Dealer's turn...\n",
      "Dealer has: Two of Hearts, Jack of Spades, Six of Clubs \n",
      " Score: 18\n",
      "Dealer's final score: 18\n",
      "You win!\n",
      "\n",
      "Game over! You ran out of money.\n",
      "\n",
      "--- New Round ---\n"
     ]
    },
    {
     "name": "stdin",
     "output_type": "stream",
     "text": [
      "Your current balance is $150. How much would you like to bet?  100\n"
     ]
    },
    {
     "name": "stdout",
     "output_type": "stream",
     "text": [
      "Player has: Queen of Hearts, Four of Clubs \n",
      " Score: 14\n",
      " Dealer has: Jack of Clubs and a Hidden Card \n"
     ]
    },
    {
     "name": "stdin",
     "output_type": "stream",
     "text": [
      "Hit or Stand? (h/s):  h\n"
     ]
    },
    {
     "name": "stdout",
     "output_type": "stream",
     "text": [
      "Player has: Queen of Hearts, Four of Clubs, Eight of Diamonds \n",
      " Score: 22\n",
      "You busted! Dealer wins.\n",
      "\n",
      "Game over! You ran out of money.\n"
     ]
    }
   ],
   "source": [
    "# classes\n",
    "\n",
    "class Card:\n",
    "    '''\n",
    "Its job is to store a suit, rank, and value for a single card.\n",
    "Each card should have:\n",
    "- A suit (Hearts, Diamonds, Clubs, ASpades).\n",
    "- A rank (Two, Three, ..., King, Ace).\n",
    "- A value (2-10, Face cards = 10, Ace = 11).\n",
    "    '''\n",
    "    def __init__(self,suit,rank,value):\n",
    "        self.suit = suit\n",
    "        self.rank = rank\n",
    "        self.value = value\n",
    "    def __str__(self):\n",
    "        return f\"{self.rank} of {self.suit}\"\n",
    "\n",
    "class Deck:\n",
    "    '''\n",
    "The Deck :\n",
    "- Creates a full set of 52 cards.\n",
    "- Allows shuffling the deck.\n",
    "- Have a deal_one() method to give out a card.\n",
    "    '''\n",
    "    def __init__(self):\n",
    "        self.suits = ['Hearts', 'Diamonds', 'Clubs', 'Spades'] \n",
    "        self.ranks = ['Two', 'Three', 'Four', 'Five', 'Six', 'Seven', 'Eight', 'Nine', 'Ten', 'Jack', 'Queen', 'King', 'Ace']\n",
    "        self.value = {'Two' : 2, 'Three' : 3, 'Four' : 4, 'Five' : 5, 'Six' : 6, 'Seven' : 7, 'Eight' : 8, 'Nine' : 9, \n",
    "                 'Ten' : 10, 'Jack' : 10, 'Queen' : 10, 'King' : 10, 'Ace' : 11}\n",
    "\n",
    "    # Creating a full set of 52 cards   \n",
    "        self.cards = []\n",
    "        for i in self.suits:\n",
    "            for j in self.ranks:\n",
    "                # create card object\n",
    "                card = Card (i,j,self.value[j])\n",
    "                self.cards.append(card)\n",
    "        random.shuffle(self.cards)\n",
    "        \n",
    "    def deal_one(self):\n",
    "        return self.cards.pop()\n",
    "\n",
    "class Hand:\n",
    "    '''\n",
    "  Each Hand should:\n",
    "- Store the cards the player or dealer has.\n",
    "- Keep track of the total value of the hand.\n",
    "- Handle Aces (Ace can be 1 or 11, depending on the situation).\n",
    "- Allow new cards to be added when the player hits.\n",
    "    '''\n",
    "    # constructor method to initialize instances of the Hand class\n",
    "    def __init__(self):\n",
    "        self.cards = []  # to append cards dealed\n",
    "        self.Aces = 0     # to count how many aces in the hand (1 or 11)\n",
    "        self.score = 0    # to count the total number of cards in_hand\n",
    "        \n",
    "    #  method to add cards\n",
    "    def add_card(self,card):\n",
    "        \n",
    "        # add a card to the hand and update value\n",
    "        self.cards.append(card)\n",
    "        self.score += card.value\n",
    "\n",
    "        # Call to avoid busting if there are Aces\n",
    "        if card.rank == 'Ace':\n",
    "            self.Aces += 1\n",
    "            \n",
    "        self.bust_Aces()\n",
    "\n",
    "    def bust_Aces(self):\n",
    "        if ((self.score > 21) &  (self.Aces)) :\n",
    "            self.score -= 10\n",
    "            self.Aces -= 1\n",
    "\n",
    "class Player:\n",
    "    \n",
    "    def __init__(self, name ='Player', money=100):\n",
    "        self.name = name\n",
    "        self.money = money\n",
    "        self.hand = Hand()\n",
    "\n",
    "\n",
    "    def add_card(self, card):\n",
    "        self.hand.add_card(card)  \n",
    "     \n",
    "            \n",
    "    def show_hand(self):\n",
    "        hand_representation = \", \".join([str(card) for card in self.hand.cards])\n",
    "        return f\"{self.name} has: {hand_representation} \\n Score: {self.hand.score}\"\n",
    "        \n",
    "    def place_bet(self):\n",
    "        while True:\n",
    "            try:\n",
    "                bet = int(input(f\"Your current balance is ${self.money}. How much would you like to bet? \"))\n",
    "                if bet > self.money:\n",
    "                    print(\"You don't have enough money!\")\n",
    "                elif bet <= 0:\n",
    "                    print(\"Bet must be a positive number.\")\n",
    "                else:\n",
    "                    self.money -= bet\n",
    "                    return bet\n",
    "            except ValueError:\n",
    "                print(\"Invalid input. Please enter a number.\")\n",
    "# Game flow\n",
    "def play_start():\n",
    "    deck = Deck()\n",
    "    player = Player(\"Player\",money=100)\n",
    "    dealer = Player(\"Dealer\")\n",
    "    \n",
    "    while player.money > 0:\n",
    "        print(f\"\\n--- New Round ---\")\n",
    "        \n",
    "        bet = player.place_bet()\n",
    "        \n",
    "        for k in range(2):\n",
    "            player.add_card(deck.deal_one())\n",
    "            dealer.add_card(deck.deal_one())\n",
    "    \n",
    "        print(player.show_hand())\n",
    "        \n",
    "        print(f\" Dealer has: {dealer.hand.cards[0]} and a Hidden Card \")\n",
    "        \n",
    "        while player.hand.score < 21:\n",
    "            action = input(\"Hit or Stand? (h/s): \")\n",
    "            if action == 'h':\n",
    "                player.add_card(deck.deal_one())\n",
    "                print(player.show_hand())\n",
    "                if player.hand.score > 21:\n",
    "                    print(\"You busted! Dealer wins.\")\n",
    "                    player.money -= bet\n",
    "                    break\n",
    "            elif action == 's':\n",
    "                break\n",
    "                    \n",
    "            \n",
    "        if player.hand.score <= 21:\n",
    "            print(\"\\nDealer's turn...\")\n",
    "            dealer.show_hand()  # Reveal full hand\n",
    "            while dealer.hand.score < 17:\n",
    "                dealer.add_card(deck.deal_one())\n",
    "                print(dealer.show_hand())\n",
    "                print(f\"Dealer's final score: {dealer.hand.score}\")\n",
    "            \n",
    "            if dealer.hand.score > 21:\n",
    "                print(\"Dealer busted! You win!\")\n",
    "                player.money += bet * 2 \n",
    "    \n",
    "            elif player.hand.score > dealer.hand.score:\n",
    "                print(\"You win!\")\n",
    "                player.money += bet * 2\n",
    "            elif player.hand.score < dealer.hand.score:\n",
    "                print(\"Dealer wins!\")\n",
    "                player.money -= bet \n",
    "            else:\n",
    "                print(\"It's a tie!\")\n",
    "        player.hand = Hand()\n",
    "        dealer.hand = Hand()\n",
    "    \n",
    "        print(\"\\nGame over! You ran out of money.\")\n",
    "\n",
    "play_start()    "
   ]
  }
 ],
 "metadata": {
  "kernelspec": {
   "display_name": "Python 3 (ipykernel)",
   "language": "python",
   "name": "python3"
  },
  "language_info": {
   "codemirror_mode": {
    "name": "ipython",
    "version": 3
   },
   "file_extension": ".py",
   "mimetype": "text/x-python",
   "name": "python",
   "nbconvert_exporter": "python",
   "pygments_lexer": "ipython3",
   "version": "3.12.7"
  }
 },
 "nbformat": 4,
 "nbformat_minor": 4
}
